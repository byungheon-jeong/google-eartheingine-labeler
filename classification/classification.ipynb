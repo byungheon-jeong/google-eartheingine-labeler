{
 "cells": [
  {
   "cell_type": "code",
   "execution_count": 60,
   "id": "376c6395",
   "metadata": {},
   "outputs": [],
   "source": [
    "import sklearn as sk\n",
    "import numpy as np\n",
    "import pandas as pd\n",
    "import rasterio, os, napari\n",
    "from sklearn.model_selection import train_test_split\n",
    "from sklearn.ensemble import RandomForestClassifier\n",
    "from sklearn.svm import SVC\n",
    "from sklearn.cluster import KMeans\n",
    "from sklearn.preprocessing import StandardScaler\n",
    "from sklearn.datasets import load_iris\n",
    "import functools"
   ]
  },
  {
   "cell_type": "code",
   "execution_count": 61,
   "id": "c93da2ce",
   "metadata": {
    "scrolled": true
   },
   "outputs": [],
   "source": [
    "with open(r\"testing_data\\checkpoints\\data.npy\", \"rb\") as file:\n",
    "    data = np.load(file)\n",
    "with open(r\"testing_data_2\\checkpoints\\data.npy\", \"rb\") as file:\n",
    "    data_2 = np.load(file)"
   ]
  },
  {
   "cell_type": "code",
   "execution_count": 62,
   "id": "88a3485e",
   "metadata": {},
   "outputs": [],
   "source": [
    "with open(r\"testing_data\\checkpoints\\labels.npy\", \"rb\") as file:\n",
    "    labels = np.load(file)\n",
    "with open(r\"testing_data_2\\checkpoints\\labels.npy\", \"rb\") as file:\n",
    "    labels_2 = np.load(file)"
   ]
  },
  {
   "cell_type": "code",
   "execution_count": 63,
   "id": "267e539b",
   "metadata": {},
   "outputs": [],
   "source": [
    "import json"
   ]
  },
  {
   "cell_type": "code",
   "execution_count": 19,
   "id": "ef1a7eb4",
   "metadata": {},
   "outputs": [
    {
     "data": {
      "text/plain": [
       "45"
      ]
     },
     "execution_count": 19,
     "metadata": {},
     "output_type": "execute_result"
    }
   ],
   "source": [
    "len(data)"
   ]
  },
  {
   "cell_type": "code",
   "execution_count": 64,
   "id": "2408a5fc",
   "metadata": {},
   "outputs": [
    {
     "data": {
      "text/plain": [
       "(373731, 16)"
      ]
     },
     "execution_count": 64,
     "metadata": {},
     "output_type": "execute_result"
    }
   ],
   "source": [
    "data_2.shape"
   ]
  },
  {
   "cell_type": "code",
   "execution_count": 65,
   "id": "02314089",
   "metadata": {},
   "outputs": [
    {
     "data": {
      "text/plain": [
       "(407001,)"
      ]
     },
     "execution_count": 65,
     "metadata": {},
     "output_type": "execute_result"
    }
   ],
   "source": [
    "labels.shape"
   ]
  },
  {
   "cell_type": "code",
   "execution_count": null,
   "id": "8f18887e",
   "metadata": {},
   "outputs": [],
   "source": [
    "labels"
   ]
  },
  {
   "cell_type": "code",
   "execution_count": 68,
   "id": "86186bfd",
   "metadata": {},
   "outputs": [
    {
     "data": {
      "text/plain": [
       "non_urban    209618\n",
       "urban        197383\n",
       "dtype: int64"
      ]
     },
     "execution_count": 68,
     "metadata": {},
     "output_type": "execute_result"
    }
   ],
   "source": [
    "labels = pd.Series(labels).replace('non_urbn','non_urban').replace('non urban','non_urban').replace('Shapes','urban').replace('urban [1]', 'urban')\n",
    "labels.value_counts()"
   ]
  },
  {
   "cell_type": "code",
   "execution_count": 79,
   "id": "31538667",
   "metadata": {},
   "outputs": [],
   "source": [
    "labels = labels.replace('non_urban','temp')\n",
    "labels = labels.replace('urban','temp_2')\n",
    "labels = labels.replace('temp','urban')\n",
    "labels = labels.replace('temp_2','non_urban') "
   ]
  },
  {
   "cell_type": "code",
   "execution_count": 80,
   "id": "4911473b",
   "metadata": {},
   "outputs": [
    {
     "data": {
      "text/plain": [
       "urban        209618\n",
       "non_urban    197383\n",
       "dtype: int64"
      ]
     },
     "execution_count": 80,
     "metadata": {},
     "output_type": "execute_result"
    }
   ],
   "source": [
    "labels.value_counts()"
   ]
  },
  {
   "cell_type": "code",
   "execution_count": 76,
   "id": "eff493eb",
   "metadata": {},
   "outputs": [
    {
     "data": {
      "text/plain": [
       "non_urban    209618\n",
       "urban        197383\n",
       "dtype: int64"
      ]
     },
     "execution_count": 76,
     "metadata": {},
     "output_type": "execute_result"
    }
   ],
   "source": [
    "labels.value_counts()"
   ]
  },
  {
   "cell_type": "code",
   "execution_count": 37,
   "id": "caa6f467",
   "metadata": {},
   "outputs": [
    {
     "data": {
      "text/plain": [
       "non_urban    219730\n",
       "urban        154001\n",
       "dtype: int64"
      ]
     },
     "execution_count": 37,
     "metadata": {},
     "output_type": "execute_result"
    }
   ],
   "source": [
    "pd.Series(labels_2).value_counts()"
   ]
  },
  {
   "cell_type": "markdown",
   "id": "b4f6b1ed",
   "metadata": {},
   "source": [
    "### Training Random Forest Classifier"
   ]
  },
  {
   "cell_type": "code",
   "execution_count": 81,
   "id": "3b8c52ce",
   "metadata": {},
   "outputs": [],
   "source": [
    " X_train, X_test, y_train, y_test = train_test_split(data,labels, test_size=0.2)"
   ]
  },
  {
   "cell_type": "code",
   "execution_count": 82,
   "id": "a6d76365",
   "metadata": {},
   "outputs": [
    {
     "data": {
      "text/plain": [
       "328776        urban\n",
       "6324          urban\n",
       "363427        urban\n",
       "186217        urban\n",
       "256884    non_urban\n",
       "            ...    \n",
       "205768        urban\n",
       "182482        urban\n",
       "232773    non_urban\n",
       "92128     non_urban\n",
       "159917        urban\n",
       "Length: 325600, dtype: object"
      ]
     },
     "execution_count": 82,
     "metadata": {},
     "output_type": "execute_result"
    }
   ],
   "source": [
    "y_train"
   ]
  },
  {
   "cell_type": "code",
   "execution_count": 51,
   "id": "69d0027c",
   "metadata": {},
   "outputs": [
    {
     "name": "stdout",
     "output_type": "stream",
     "text": [
      "non_urban    167837\n",
      "urban        157763\n",
      "dtype: int64\n",
      "\n",
      "\n",
      "non_urban    41781\n",
      "urban        39620\n",
      "dtype: int64\n"
     ]
    }
   ],
   "source": [
    "a = pd.Series(y_train).value_counts()\n",
    "b = pd.Series(y_test).value_counts()\n",
    "\n",
    "print(a)\n",
    "print(\"\\n\")\n",
    "print(b)"
   ]
  },
  {
   "cell_type": "code",
   "execution_count": 130,
   "id": "f8d9ea45",
   "metadata": {},
   "outputs": [],
   "source": [
    "%matplotlib inline\n",
    "import matplotlib.pyplot as plt\n",
    "plt.style.use('seaborn-whitegrid')\n",
    "import numpy as np"
   ]
  },
  {
   "cell_type": "code",
   "execution_count": 133,
   "id": "dfba966a",
   "metadata": {},
   "outputs": [],
   "source": [
    "scores_depth = []\n",
    "for i in range(1,50):\n",
    "    fclf = RandomForestClassifier(max_depth=i, n_estimators=10, max_features=1)\n",
    "    fclf.fit(X_train, y_train)\n",
    "    scores_depth.append(fclf.score(X_test, y_test))"
   ]
  },
  {
   "cell_type": "code",
   "execution_count": 134,
   "id": "2f5754a4",
   "metadata": {},
   "outputs": [
    {
     "data": {
      "image/png": "[encoded data removed]",
      "text/plain": [
       "<Figure size 432x288 with 1 Axes>"
      ]
     },
     "metadata": {},
     "output_type": "display_data"
    }
   ],
   "source": [
    "plt.plot(range(1,50), scores_depth)\n",
    "plt.title(\"Depth Range over Accuracy Score\")\n",
    "plt.xlabel(\"Depth Range\")\n",
    "plt.ylabel(\"Accuracy in Percents\");"
   ]
  },
  {
   "cell_type": "code",
   "execution_count": 892,
   "id": "77d120af",
   "metadata": {},
   "outputs": [
    {
     "data": {
      "text/plain": [
       "25"
      ]
     },
     "execution_count": 892,
     "metadata": {},
     "output_type": "execute_result"
    }
   ],
   "source": [
    "max_score = max(scores_estimators)\n",
    "scores_estimators.index(max_score)\n",
    "max_depth = scores_estimators.index(max_score)\n",
    "max_depth += 1\n",
    "max_depth"
   ]
  },
  {
   "cell_type": "markdown",
   "id": "b90551d7",
   "metadata": {},
   "source": [
    "### Full Parameter tuning"
   ]
  },
  {
   "cell_type": "code",
   "execution_count": null,
   "id": "a28cadba",
   "metadata": {},
   "outputs": [],
   "source": [
    "from sklearn.datasets import make_classification\n",
    "from sklearn.ensemble import RandomForestClassifier\n",
    "from sklearn.experimental import enable_halving_search_cv  # noqa\n",
    "from sklearn.model_selection import HalvingGridSearchCV\n",
    "import pandas as pd"
   ]
  },
  {
   "cell_type": "markdown",
   "id": "f3b2fb93",
   "metadata": {},
   "source": [
    "### end of testing "
   ]
  },
  {
   "cell_type": "code",
   "execution_count": 137,
   "id": "28d25215",
   "metadata": {},
   "outputs": [],
   "source": [
    "scores_estimators = []\n",
    "for i in range(1,30):\n",
    "    fclf = RandomForestClassifier(max_depth= max_depth, n_estimators=i, max_features=1)\n",
    "    fclf.fit(data, labels)\n",
    "    scores_estimators.append(fclf.score(data, labels))"
   ]
  },
  {
   "cell_type": "code",
   "execution_count": 138,
   "id": "7cf65cf0",
   "metadata": {},
   "outputs": [
    {
     "data": {
      "image/png": "[encoded data removed]",
      "text/plain": [
       "<Figure size 432x288 with 1 Axes>"
      ]
     },
     "metadata": {},
     "output_type": "display_data"
    }
   ],
   "source": [
    "plt.plot(range(1,30), scores_estimators)\n",
    "plt.title(\"Number of Estimators over Accuracy Score\")\n",
    "plt.xlabel(\"Number of Estimators\")\n",
    "plt.ylabel(\"Accuracy in Percents\");"
   ]
  },
  {
   "cell_type": "code",
   "execution_count": 161,
   "id": "ff880307",
   "metadata": {},
   "outputs": [
    {
     "data": {
      "text/plain": [
       "25"
      ]
     },
     "execution_count": 161,
     "metadata": {},
     "output_type": "execute_result"
    }
   ],
   "source": [
    "max_score = max(scores_estimators)\n",
    "max_estimators = scores_estimators.index(max_score)\n",
    "max_estimators += 1\n",
    "max_estimators"
   ]
  },
  {
   "cell_type": "code",
   "execution_count": 147,
   "id": "3c001aa2",
   "metadata": {},
   "outputs": [],
   "source": [
    "score_features = []\n",
    "for i in range(1,10):\n",
    "    fclf = RandomForestClassifier(max_depth = max_depth, n_estimators=max_estimators, max_features=i)\n",
    "    fclf.fit(X_train, y_train)\n",
    "    score_features.append(fclf.score(X_test, y_test))"
   ]
  },
  {
   "cell_type": "code",
   "execution_count": 148,
   "id": "4291fecb",
   "metadata": {},
   "outputs": [
    {
     "data": {
      "image/png": "[encoded data removed]",
      "text/plain": [
       "<Figure size 432x288 with 1 Axes>"
      ]
     },
     "metadata": {},
     "output_type": "display_data"
    }
   ],
   "source": [
    "plt.plot(range(1,10), score_features)\n",
    "plt.title(\"Number of Max features over Accuracy Score\")\n",
    "plt.xlabel(\"Number of Max Features\")\n",
    "plt.ylabel(\"Accuracy in Percents\");"
   ]
  },
  {
   "cell_type": "code",
   "execution_count": 893,
   "id": "a5684119",
   "metadata": {},
   "outputs": [
    {
     "data": {
      "text/plain": [
       "5"
      ]
     },
     "execution_count": 893,
     "metadata": {},
     "output_type": "execute_result"
    }
   ],
   "source": [
    "max_score = max(score_features)\n",
    "score_features.index(max_score)\n",
    "max_features = score_features.index(max_score)\n",
    "max_features += 1\n",
    "max_features"
   ]
  },
  {
   "cell_type": "code",
   "execution_count": 154,
   "id": "6f50d48e",
   "metadata": {},
   "outputs": [],
   "source": [
    "score_min_samples = []\n",
    "for i in range(2,10):\n",
    "    fclf = RandomForestClassifier(max_depth = max_depth, n_estimators=max_estimators, max_features=max_features, min_samples_leaf = i)\n",
    "    fclf.fit(X_train, y_train)\n",
    "    score_min_samples.append(fclf.score(X_test, y_test))"
   ]
  },
  {
   "cell_type": "code",
   "execution_count": 155,
   "id": "6992af37",
   "metadata": {},
   "outputs": [
    {
     "data": {
      "image/png": "[encoded data removed]",
      "text/plain": [
       "<Figure size 432x288 with 1 Axes>"
      ]
     },
     "metadata": {},
     "output_type": "display_data"
    }
   ],
   "source": [
    "plt.plot(range(2,10), score_min_samples)\n",
    "plt.title(\"Minimum Number of Samples Splits over Accuracy Score\")\n",
    "plt.xlabel(\"Minimum Number of Samples Splits\")\n",
    "plt.ylabel(\"Accuracy in Percents\");"
   ]
  },
  {
   "cell_type": "code",
   "execution_count": 165,
   "id": "a39af59d",
   "metadata": {},
   "outputs": [
    {
     "data": {
      "text/plain": [
       "2"
      ]
     },
     "execution_count": 165,
     "metadata": {},
     "output_type": "execute_result"
    }
   ],
   "source": [
    "max_score = max(score_min_samples )\n",
    "score_min_samples.index(max_score)\n",
    "min_samples = score_min_samples.index(max_score)\n",
    "min_samples += 2\n",
    "min_samples"
   ]
  },
  {
   "cell_type": "code",
   "execution_count": 166,
   "id": "d648052b",
   "metadata": {},
   "outputs": [
    {
     "data": {
      "text/plain": [
       "0.987948551000602"
      ]
     },
     "execution_count": 166,
     "metadata": {},
     "output_type": "execute_result"
    }
   ],
   "source": [
    "fclf = RandomForestClassifier(max_depth = max_depth, n_estimators=max_estimators, max_features=max_features, min_samples_leaf = min_samples)\n",
    "fclf.fit(X_train, y_train)\n",
    "fclf.score(X_test, y_test)"
   ]
  },
  {
   "cell_type": "code",
   "execution_count": 66,
   "id": "ef80e97c",
   "metadata": {},
   "outputs": [
    {
     "data": {
      "text/plain": [
       "0.964214198842766"
      ]
     },
     "execution_count": 66,
     "metadata": {},
     "output_type": "execute_result"
    }
   ],
   "source": [
    "fclf.score(X_test, y_test)"
   ]
  },
  {
   "cell_type": "code",
   "execution_count": 895,
   "id": "9e8c006f",
   "metadata": {},
   "outputs": [
    {
     "data": {
      "text/plain": [
       "0.5915270609074441"
      ]
     },
     "execution_count": 895,
     "metadata": {},
     "output_type": "execute_result"
    }
   ],
   "source": [
    "fclf.score(data_2, labels_2)"
   ]
  },
  {
   "cell_type": "markdown",
   "id": "f9bfdf4a",
   "metadata": {},
   "source": [
    "# Display prediction"
   ]
  },
  {
   "cell_type": "code",
   "execution_count": 204,
   "id": "a335eff3",
   "metadata": {},
   "outputs": [],
   "source": [
    "from os import listdir\n",
    "from os.path import isfile, join"
   ]
  },
  {
   "cell_type": "code",
   "execution_count": 194,
   "id": "57044ac7",
   "metadata": {},
   "outputs": [],
   "source": [
    "test_img = \"China_2013-04-10.tif\""
   ]
  },
  {
   "cell_type": "code",
   "execution_count": 292,
   "id": "451c2af0",
   "metadata": {},
   "outputs": [],
   "source": [
    "full_directory = os.path.join(r\"C:\\Users\\Administrator\\DSC_180B\\google-eartheingine-labeler\\testing_data\\full_img\")"
   ]
  },
  {
   "cell_type": "code",
   "execution_count": 293,
   "id": "4b2c4e19",
   "metadata": {},
   "outputs": [],
   "source": [
    "onlyfiles = [f for f in listdir(full_directory) if isfile(join(full_directory, f))]"
   ]
  },
  {
   "cell_type": "code",
   "execution_count": 329,
   "id": "5b3c87c6",
   "metadata": {},
   "outputs": [
    {
     "data": {
      "text/plain": [
       "(16, 89, 189)"
      ]
     },
     "execution_count": 329,
     "metadata": {},
     "output_type": "execute_result"
    }
   ],
   "source": [
    "\n",
    "img.shape\n"
   ]
  },
  {
   "cell_type": "code",
   "execution_count": 333,
   "id": "10b194a8",
   "metadata": {},
   "outputs": [],
   "source": [
    "model_predictions = []\n",
    "for i in onlyfiles:\n",
    "    with rasterio.open('testing_data/full_img/'  + i) as src:\n",
    "    #     print(src.shape)\n",
    "        img = src.read()\n",
    "#     img.flatten(order = 'C')\n",
    "    \n",
    "        img_test = np.rollaxis(img.reshape(16,e_dims[1]*e_dims[2]),0,2)\n",
    "\n",
    "        model_predictions.append(fclf.predict(img_test))"
   ]
  },
  {
   "cell_type": "code",
   "execution_count": 289,
   "id": "142fd0b8",
   "metadata": {},
   "outputs": [
    {
     "data": {
      "text/plain": [
       "urban        41877\n",
       "non_urban    39524\n",
       "dtype: int64"
      ]
     },
     "execution_count": 289,
     "metadata": {},
     "output_type": "execute_result"
    }
   ],
   "source": [
    "pd.Series(model_predictions[1]).value_counts()"
   ]
  },
  {
   "cell_type": "code",
   "execution_count": 229,
   "id": "1b90af59",
   "metadata": {},
   "outputs": [],
   "source": [
    "data_classified = pd.DataFrame(model_predictions, index = onlyfiles).swapaxes(\"index\", \"columns\")"
   ]
  },
  {
   "cell_type": "code",
   "execution_count": 247,
   "id": "9560a712",
   "metadata": {},
   "outputs": [
    {
     "data": {
      "text/plain": [
       "urban        41877\n",
       "non_urban    39524\n",
       "Name: China_2013-04-10.tif, dtype: int64"
      ]
     },
     "execution_count": 247,
     "metadata": {},
     "output_type": "execute_result"
    }
   ],
   "source": [
    "data_classified.iloc[:, 0].value_counts()"
   ]
  },
  {
   "cell_type": "code",
   "execution_count": 290,
   "id": "bc553643",
   "metadata": {},
   "outputs": [
    {
     "data": {
      "text/plain": [
       "(45, 81401)"
      ]
     },
     "execution_count": 290,
     "metadata": {},
     "output_type": "execute_result"
    }
   ],
   "source": [
    "np.array(model_predictions).shape"
   ]
  },
  {
   "cell_type": "code",
   "execution_count": 264,
   "id": "6e47da4c",
   "metadata": {},
   "outputs": [
    {
     "data": {
      "text/plain": [
       "81401"
      ]
     },
     "execution_count": 264,
     "metadata": {},
     "output_type": "execute_result"
    }
   ],
   "source": [
    "len(model_predictions[0])"
   ]
  },
  {
   "cell_type": "code",
   "execution_count": 563,
   "id": "27eb4369",
   "metadata": {},
   "outputs": [],
   "source": [
    "urban_ratio = []\n",
    "for i in model_predictions:\n",
    "    urban_count = 0\n",
    "    for j in i:\n",
    "        if j == 'urban':\n",
    "            urban_count += 1\n",
    "#     print(urban_count)\n",
    "    non_urban_count  = len(i) - urban_count\n",
    "    urban_ratio.append(urban_count/non_urban_count)\n"
   ]
  },
  {
   "cell_type": "code",
   "execution_count": 564,
   "id": "823b0b11",
   "metadata": {},
   "outputs": [],
   "source": [
    "import datetime"
   ]
  },
  {
   "cell_type": "code",
   "execution_count": 565,
   "id": "63a1a075",
   "metadata": {},
   "outputs": [],
   "source": [
    "onlyfiles[0][6:16]\n",
    "dates = []\n",
    "for i in onlyfiles:\n",
    "    dates.append(i[6:16])\n",
    "# dates"
   ]
  },
  {
   "cell_type": "code",
   "execution_count": 566,
   "id": "141d0807",
   "metadata": {},
   "outputs": [
    {
     "data": {
      "text/plain": [
       "[0.5107777977366624,\n",
       " 0.7641321447299423,\n",
       " 1.280195201301342,\n",
       " 0.23902474955804362,\n",
       " 0.22094795673949336,\n",
       " 0.1210263245584805,\n",
       " 1.778034682080925,\n",
       " 1.9745358090185676,\n",
       " 1.1504730248018409,\n",
       " 0.9283503381864038,\n",
       " 0.5975876151581346,\n",
       " 0.6779052369077306,\n",
       " 0.16918051018280392,\n",
       " 0.39651307596513075,\n",
       " 0.18457746478873238,\n",
       " 0.034565471431207334,\n",
       " 0.17064513884055954,\n",
       " 2.2064430041936713,\n",
       " 2.0926640926640925,\n",
       " 14.059086839749328,\n",
       " 0.4983965793693212,\n",
       " 0.8377581120943953,\n",
       " 0.13379617147479106,\n",
       " 0.3393582291583725,\n",
       " 0.27066022057712646,\n",
       " 0.028807339449541284,\n",
       " 0.1766228315612759,\n",
       " 0.1377840909090909,\n",
       " 0.15950920245398773,\n",
       " 4.527768649359185,\n",
       " 11.09273903666427,\n",
       " 1.232382216323822,\n",
       " 4.863018473335657,\n",
       " 2.3790678987545197,\n",
       " 2.4237736617138204,\n",
       " 2.0123567335243555,\n",
       " 1.187670698400312,\n",
       " 0.9923013146985669,\n",
       " 0.4050283995990645,\n",
       " 0.42249471458773785,\n",
       " 0.4557334487234963,\n",
       " 0.4199729866621644,\n",
       " 1.5132227700582699,\n",
       " 2.1809757942511347,\n",
       " 2.2088897367417015,\n",
       " 24.143497757847534,\n",
       " 2.3448001590773515,\n",
       " 2.0572519083969465,\n",
       " 2.0210129310344827,\n",
       " 0.9265834383232161,\n",
       " 0.7456413449564134,\n",
       " 0.6821,\n",
       " 0.06495726495726496,\n",
       " 0.35554839229591423,\n",
       " 0.04129008295159094,\n",
       " 0.14180016291067066,\n",
       " 1.3852807714123654,\n",
       " 1.8680306905370845,\n",
       " 2.794495826753891,\n",
       " 2.060589519650655,\n",
       " 2.553231939163498,\n",
       " 2.319715808170515,\n",
       " 0.9634644566359286,\n",
       " 1.1879552549427679,\n",
       " 0.5640167364016736,\n",
       " 0.40104947526236884,\n",
       " 0.6797483523067706,\n",
       " 0.12786643422287783,\n",
       " 1.242202079445481,\n",
       " 1.9919957310565635,\n",
       " 2.681549573210768,\n",
       " 2.5942307692307693,\n",
       " 1.5874480849100139,\n",
       " 1.161526599845798,\n",
       " 0.5102352307416053,\n",
       " 0.39547038327526135,\n",
       " 0.3852425265585111,\n",
       " 0.30547147846332945,\n",
       " 0.04342162396873643,\n",
       " 0.13242224316682374,\n",
       " 0.08599651365485184,\n",
       " 0.07365800727644092,\n",
       " 1.5637860082304527,\n",
       " 2.6855828220858897,\n",
       " 2.8439213893967095,\n",
       " 1.43359375,\n",
       " 2.803074836084106,\n",
       " 0.3465417867435158,\n",
       " 1.5245384961728952,\n",
       " 0.8089041832455103,\n",
       " 1.140348644865759,\n",
       " 0.41757963930557895,\n",
       " 0.36500852065243855,\n",
       " 0.018405279409093662,\n",
       " 0.12763960581886438,\n",
       " 0.11864068630710912,\n",
       " 0.4548521017125065,\n",
       " 1.3460251046025105,\n",
       " 2.6839684625492772,\n",
       " 3.1749813849590467,\n",
       " 2.2397919876733434,\n",
       " 2.8928488775746355,\n",
       " 1.761162179908076,\n",
       " 2.2366750048104675,\n",
       " 0.7461849890999689,\n",
       " 1.0461014475124681,\n",
       " 0.2876827681237082,\n",
       " 0.3057755006986493,\n",
       " 0.26198514517218097,\n",
       " 0.18566293085218863,\n",
       " 1.9223419041000696,\n",
       " 2.110967264656926,\n",
       " 2.4941836310760284,\n",
       " 2.5996148084742137,\n",
       " 2.5116910229645093]"
      ]
     },
     "execution_count": 566,
     "metadata": {},
     "output_type": "execute_result"
    }
   ],
   "source": [
    "urban_ratio"
   ]
  },
  {
   "cell_type": "code",
   "execution_count": 567,
   "id": "f483de45",
   "metadata": {},
   "outputs": [
    {
     "data": {
      "text/plain": [
       "[datetime.date(2013, 4, 10),\n",
       " datetime.date(2013, 4, 26),\n",
       " datetime.date(2013, 5, 12),\n",
       " datetime.date(2013, 8, 16),\n",
       " datetime.date(2013, 9, 1),\n",
       " datetime.date(2013, 10, 3),\n",
       " datetime.date(2013, 11, 4),\n",
       " datetime.date(2013, 11, 20),\n",
       " datetime.date(2013, 12, 22),\n",
       " datetime.date(2014, 4, 13),\n",
       " datetime.date(2014, 4, 29),\n",
       " datetime.date(2014, 5, 15),\n",
       " datetime.date(2014, 7, 18),\n",
       " datetime.date(2014, 8, 19),\n",
       " datetime.date(2014, 9, 4),\n",
       " datetime.date(2014, 9, 20),\n",
       " datetime.date(2014, 10, 6),\n",
       " datetime.date(2014, 12, 25),\n",
       " datetime.date(2015, 1, 10),\n",
       " datetime.date(2015, 3, 15),\n",
       " datetime.date(2015, 4, 16),\n",
       " datetime.date(2015, 5, 2),\n",
       " datetime.date(2015, 5, 18),\n",
       " datetime.date(2015, 6, 3),\n",
       " datetime.date(2015, 7, 5),\n",
       " datetime.date(2015, 8, 6),\n",
       " datetime.date(2015, 8, 22),\n",
       " datetime.date(2015, 9, 7),\n",
       " datetime.date(2015, 10, 9),\n",
       " datetime.date(2015, 11, 26),\n",
       " datetime.date(2015, 12, 12),\n",
       " datetime.date(2015, 12, 28),\n",
       " datetime.date(2016, 1, 13),\n",
       " datetime.date(2016, 1, 29),\n",
       " datetime.date(2016, 2, 14),\n",
       " datetime.date(2016, 3, 1),\n",
       " datetime.date(2016, 4, 18),\n",
       " datetime.date(2016, 5, 4),\n",
       " datetime.date(2016, 5, 20),\n",
       " datetime.date(2016, 6, 5),\n",
       " datetime.date(2016, 6, 21),\n",
       " datetime.date(2016, 10, 11),\n",
       " datetime.date(2016, 11, 12),\n",
       " datetime.date(2016, 11, 28),\n",
       " datetime.date(2016, 12, 14),\n",
       " datetime.date(2016, 12, 30),\n",
       " datetime.date(2017, 1, 15),\n",
       " datetime.date(2017, 1, 31),\n",
       " datetime.date(2017, 3, 4),\n",
       " datetime.date(2017, 4, 5),\n",
       " datetime.date(2017, 4, 21),\n",
       " datetime.date(2017, 5, 7),\n",
       " datetime.date(2017, 5, 23),\n",
       " datetime.date(2017, 6, 8),\n",
       " datetime.date(2017, 7, 10),\n",
       " datetime.date(2017, 9, 28),\n",
       " datetime.date(2017, 10, 30),\n",
       " datetime.date(2017, 11, 15),\n",
       " datetime.date(2017, 12, 1),\n",
       " datetime.date(2017, 12, 17),\n",
       " datetime.date(2018, 1, 2),\n",
       " datetime.date(2018, 2, 3),\n",
       " datetime.date(2018, 3, 23),\n",
       " datetime.date(2018, 4, 8),\n",
       " datetime.date(2018, 4, 24),\n",
       " datetime.date(2018, 6, 11),\n",
       " datetime.date(2018, 6, 27),\n",
       " datetime.date(2018, 10, 1),\n",
       " datetime.date(2018, 11, 2),\n",
       " datetime.date(2018, 11, 18),\n",
       " datetime.date(2018, 12, 4),\n",
       " datetime.date(2019, 1, 21),\n",
       " datetime.date(2019, 3, 10),\n",
       " datetime.date(2019, 3, 26),\n",
       " datetime.date(2019, 5, 13),\n",
       " datetime.date(2019, 5, 29),\n",
       " datetime.date(2019, 6, 14),\n",
       " datetime.date(2019, 6, 30),\n",
       " datetime.date(2019, 8, 1),\n",
       " datetime.date(2019, 8, 17),\n",
       " datetime.date(2019, 9, 2),\n",
       " datetime.date(2019, 9, 18),\n",
       " datetime.date(2019, 11, 5),\n",
       " datetime.date(2019, 12, 7),\n",
       " datetime.date(2019, 12, 23),\n",
       " datetime.date(2020, 1, 8),\n",
       " datetime.date(2020, 1, 24),\n",
       " datetime.date(2020, 3, 12),\n",
       " datetime.date(2020, 3, 28),\n",
       " datetime.date(2020, 4, 13),\n",
       " datetime.date(2020, 4, 29),\n",
       " datetime.date(2020, 5, 31),\n",
       " datetime.date(2020, 6, 16),\n",
       " datetime.date(2020, 8, 3),\n",
       " datetime.date(2020, 9, 4),\n",
       " datetime.date(2020, 9, 20),\n",
       " datetime.date(2020, 10, 6),\n",
       " datetime.date(2020, 10, 22),\n",
       " datetime.date(2020, 11, 23),\n",
       " datetime.date(2020, 12, 9),\n",
       " datetime.date(2020, 12, 25),\n",
       " datetime.date(2021, 1, 10),\n",
       " datetime.date(2021, 2, 11),\n",
       " datetime.date(2021, 2, 27),\n",
       " datetime.date(2021, 3, 31),\n",
       " datetime.date(2021, 5, 2),\n",
       " datetime.date(2021, 5, 18),\n",
       " datetime.date(2021, 6, 3),\n",
       " datetime.date(2021, 6, 19),\n",
       " datetime.date(2021, 7, 5),\n",
       " datetime.date(2021, 11, 10),\n",
       " datetime.date(2021, 11, 26),\n",
       " datetime.date(2021, 12, 12),\n",
       " datetime.date(2021, 12, 28),\n",
       " datetime.date(2022, 1, 13)]"
      ]
     },
     "execution_count": 567,
     "metadata": {},
     "output_type": "execute_result"
    }
   ],
   "source": [
    "x_values = [datetime.datetime.strptime(d,\"%Y-%m-%d\").date() for d in dates]\n",
    "x_values"
   ]
  },
  {
   "cell_type": "code",
   "execution_count": 867,
   "id": "db5fb97a",
   "metadata": {},
   "outputs": [
    {
     "data": {
      "image/png": "[encoded data removed]",
      "text/plain": [
       "<Figure size 432x288 with 1 Axes>"
      ]
     },
     "metadata": {},
     "output_type": "display_data"
    }
   ],
   "source": [
    "plt.plot(x_values, urban_ratio)\n",
    "plt.title('urban ratio over time')\n",
    "plt.xlabel('years')\n",
    "plt.ylabel('(urban/non urban) ratio')\n",
    "plt.show()"
   ]
  },
  {
   "cell_type": "code",
   "execution_count": 645,
   "id": "ba50d765",
   "metadata": {},
   "outputs": [],
   "source": [
    "import numpy as np\n",
    "import scipy.stats as st"
   ]
  },
  {
   "cell_type": "code",
   "execution_count": 654,
   "id": "10b6caa3",
   "metadata": {},
   "outputs": [
    {
     "data": {
      "text/plain": [
       "(1.0619165923084357, 2.095259364333207)"
      ]
     },
     "execution_count": 654,
     "metadata": {},
     "output_type": "execute_result"
    }
   ],
   "source": [
    "st.t.interval(alpha=0.95, df=len(urban_ratio)-1, loc=np.mean(urban_ratio), scale=st.sem(urban_ratio)) "
   ]
  },
  {
   "cell_type": "code",
   "execution_count": 876,
   "id": "5fed2981",
   "metadata": {},
   "outputs": [
    {
     "data": {
      "text/plain": [
       "[datetime.date(2013, 4, 10),\n",
       " datetime.date(2013, 4, 26),\n",
       " datetime.date(2013, 5, 12),\n",
       " datetime.date(2013, 8, 16),\n",
       " datetime.date(2013, 9, 1),\n",
       " datetime.date(2013, 10, 3),\n",
       " datetime.date(2013, 11, 4),\n",
       " datetime.date(2013, 11, 20),\n",
       " datetime.date(2013, 12, 22),\n",
       " datetime.date(2014, 4, 13)]"
      ]
     },
     "execution_count": 876,
     "metadata": {},
     "output_type": "execute_result"
    }
   ],
   "source": []
  },
  {
   "cell_type": "code",
   "execution_count": 647,
   "id": "f030bb9b",
   "metadata": {},
   "outputs": [
    {
     "data": {
      "text/plain": [
       "30"
      ]
     },
     "execution_count": 647,
     "metadata": {},
     "output_type": "execute_result"
    }
   ],
   "source": [
    "# len(urban_ratio_corrected)\n",
    "# urban_ratio_corrected[19]\n",
    "\n",
    "urban_ratio.index(11.09273903666427)"
   ]
  },
  {
   "cell_type": "code",
   "execution_count": 570,
   "id": "04177581",
   "metadata": {},
   "outputs": [
    {
     "data": {
      "text/plain": [
       "3.1749813849590467"
      ]
     },
     "execution_count": 570,
     "metadata": {},
     "output_type": "execute_result"
    }
   ],
   "source": [
    "max(urban_ratio_corrected)"
   ]
  },
  {
   "cell_type": "code",
   "execution_count": 571,
   "id": "de58dda1",
   "metadata": {},
   "outputs": [],
   "source": [
    "# x_values_corrected = x_values.copy()\n",
    "# for i in bad_index:\n",
    "#     x_values_corrected.pop(i)"
   ]
  },
  {
   "cell_type": "code",
   "execution_count": 572,
   "id": "a417170f",
   "metadata": {},
   "outputs": [
    {
     "data": {
      "text/plain": [
       "110"
      ]
     },
     "execution_count": 572,
     "metadata": {},
     "output_type": "execute_result"
    }
   ],
   "source": [
    "len(x_values_corrected)"
   ]
  },
  {
   "cell_type": "code",
   "execution_count": 903,
   "id": "5170a61f",
   "metadata": {},
   "outputs": [
    {
     "name": "stdout",
     "output_type": "stream",
     "text": [
      "5\n"
     ]
    }
   ],
   "source": [
    "print(5)"
   ]
  },
  {
   "cell_type": "code",
   "execution_count": 575,
   "id": "a54f37fe",
   "metadata": {},
   "outputs": [],
   "source": [
    "year_list = []\n",
    "for i in x_values:\n",
    "    year_list.append(i.year)"
   ]
  },
  {
   "cell_type": "code",
   "execution_count": 902,
   "id": "6c4b39c2",
   "metadata": {},
   "outputs": [],
   "source": [
    "years = np.unique(year_list)"
   ]
  },
  {
   "cell_type": "code",
   "execution_count": 576,
   "id": "4fdf49a1",
   "metadata": {},
   "outputs": [
    {
     "data": {
      "text/plain": [
       "{2013: [],\n",
       " 2014: [],\n",
       " 2015: [],\n",
       " 2016: [],\n",
       " 2017: [],\n",
       " 2018: [],\n",
       " 2019: [],\n",
       " 2020: [],\n",
       " 2021: [],\n",
       " 2022: []}"
      ]
     },
     "execution_count": 576,
     "metadata": {},
     "output_type": "execute_result"
    }
   ],
   "source": [
    "year_avg = {}\n",
    "# year_avg.keys = years\n",
    "for i in years:\n",
    "    year_avg[i] = []\n",
    "year_avg"
   ]
  },
  {
   "cell_type": "code",
   "execution_count": 577,
   "id": "46b1e31a",
   "metadata": {},
   "outputs": [],
   "source": [
    "pd.Series(year_list).value_counts()\n",
    "# year_avg = { keys = year}\n",
    "for count, value in enumerate(urban_ratio):\n",
    "    year_avg[year_list[count]].append(value)"
   ]
  },
  {
   "cell_type": "code",
   "execution_count": 578,
   "id": "3df7791f",
   "metadata": {},
   "outputs": [],
   "source": [
    "# for i in test_dict.values:\n",
    "list_year_average = []\n",
    "for i in year_avg:\n",
    "    list_year_average.append(np.mean(year_avg[i]))\n",
    "# list_year_average"
   ]
  },
  {
   "cell_type": "code",
   "execution_count": 579,
   "id": "835f4de3",
   "metadata": {},
   "outputs": [
    {
     "data": {
      "text/plain": [
       "[0.8932386322805885,\n",
       " 0.5961964284060416,\n",
       " 2.541952400843471,\n",
       " 3.257714599207024,\n",
       " 1.249241606661275,\n",
       " 1.3375268946199286,\n",
       " 1.0263152629146564,\n",
       " 1.1877434043813473,\n",
       " 1.450091265543045,\n",
       " 2.5116910229645093]"
      ]
     },
     "execution_count": 579,
     "metadata": {},
     "output_type": "execute_result"
    }
   ],
   "source": [
    "list_year_average"
   ]
  },
  {
   "cell_type": "code",
   "execution_count": 580,
   "id": "5d5ee421",
   "metadata": {},
   "outputs": [
    {
     "data": {
      "text/plain": [
       "[19, 29, 30, 32, 45]"
      ]
     },
     "execution_count": 580,
     "metadata": {},
     "output_type": "execute_result"
    }
   ],
   "source": [
    "urban_ratio_corrected  = urban_ratio.copy()\n",
    "bad_index = []\n",
    "x_values_corrected = x_values.copy()\n",
    "for i in urban_ratio_corrected:\n",
    "    if i > 4:\n",
    "        outlier_index = urban_ratio_corrected.index(i)\n",
    "        bad_index.append(outlier_index)\n",
    "count = 0\n",
    "for i in bad_index:\n",
    "    urban_ratio_corrected.pop(i - count)\n",
    "    x_values_corrected.pop(i - count)\n",
    "    count += 1\n",
    "bad_index"
   ]
  },
  {
   "cell_type": "code",
   "execution_count": 581,
   "id": "1b909ab4",
   "metadata": {},
   "outputs": [
    {
     "name": "stdout",
     "output_type": "stream",
     "text": [
      "110\n",
      "110\n"
     ]
    }
   ],
   "source": [
    "print(len(x_values_corrected))\n",
    "print(len(urban_ratio_corrected))"
   ]
  },
  {
   "cell_type": "code",
   "execution_count": 868,
   "id": "ae580f78",
   "metadata": {},
   "outputs": [
    {
     "data": {
      "image/png": "[encoded data removed]",
      "text/plain": [
       "<Figure size 432x288 with 1 Axes>"
      ]
     },
     "metadata": {},
     "output_type": "display_data"
    }
   ],
   "source": [
    "plt.plot(x_values_corrected, urban_ratio_corrected)\n",
    "plt.title('urban ratio over time')\n",
    "plt.xlabel('years')\n",
    "plt.ylabel('(urban/non urban) ratio')\n",
    "plt.show()"
   ]
  },
  {
   "cell_type": "code",
   "execution_count": 907,
   "id": "64b4f9f4",
   "metadata": {},
   "outputs": [
    {
     "data": {
      "text/plain": [
       "datetime.date(2022, 1, 13)"
      ]
     },
     "execution_count": 907,
     "metadata": {},
     "output_type": "execute_result"
    }
   ],
   "source": [
    "x_values_corrected[-1]"
   ]
  },
  {
   "cell_type": "markdown",
   "id": "610c9706",
   "metadata": {},
   "source": [
    "### Data to days"
   ]
  },
  {
   "cell_type": "code",
   "execution_count": 734,
   "id": "42f2c843",
   "metadata": {},
   "outputs": [],
   "source": [
    "import datetime"
   ]
  },
  {
   "cell_type": "code",
   "execution_count": 738,
   "id": "cc63df08",
   "metadata": {},
   "outputs": [],
   "source": [
    "my_date = x_values_corrected[0]\n",
    "x_datetime = [datetime.datetime(i.year, i.month, i.day).timestamp() for i in x_values_corrected]"
   ]
  },
  {
   "cell_type": "code",
   "execution_count": 743,
   "id": "42443bd5",
   "metadata": {},
   "outputs": [],
   "source": [
    "x_datetime_start = min(x_datetime)\n",
    "x_datetime_days = [(x - x_datetime_start)/(60 * 60 * 24) for x in x_datetime]"
   ]
  },
  {
   "cell_type": "code",
   "execution_count": 881,
   "id": "f4e75437",
   "metadata": {},
   "outputs": [],
   "source": [
    "x_minutes_reshaped = np.array(x_datetime_days).reshape((-1, 1))\n",
    "# x_minutes_reshaped"
   ]
  },
  {
   "cell_type": "markdown",
   "id": "c92ede2f",
   "metadata": {},
   "source": [
    "### Testing for Linearity"
   ]
  },
  {
   "cell_type": "code",
   "execution_count": 753,
   "id": "7bbb96cc",
   "metadata": {},
   "outputs": [
    {
     "data": {
      "text/plain": [
       "0.05540008335192936"
      ]
     },
     "execution_count": 753,
     "metadata": {},
     "output_type": "execute_result"
    }
   ],
   "source": [
    "#expirementing with confidence interval\n",
    "# st.t.interval(alpha=0.95, df=len(urban_ratio_corrected)-1, loc=np.mean(urban_ratio_corrected), scale=st.sem(urban_ratio_corrected)) \n",
    "import numpy as np\n",
    "from sklearn.linear_model import LinearRegression\n",
    "reg = LinearRegression().fit(x_minutes_reshaped, urban_ratio_corrected)\n",
    "reg.score(x_minutes_reshaped, urban_ratio_corrected)"
   ]
  },
  {
   "cell_type": "code",
   "execution_count": 754,
   "id": "916bb741",
   "metadata": {},
   "outputs": [
    {
     "data": {
      "text/plain": [
       "0.7142641939421813"
      ]
     },
     "execution_count": 754,
     "metadata": {},
     "output_type": "execute_result"
    }
   ],
   "source": [
    "reg.intercept_"
   ]
  },
  {
   "cell_type": "code",
   "execution_count": 755,
   "id": "3ab5c0ba",
   "metadata": {},
   "outputs": [
    {
     "data": {
      "text/plain": [
       "array([0.000236])"
      ]
     },
     "execution_count": 755,
     "metadata": {},
     "output_type": "execute_result"
    }
   ],
   "source": [
    "reg.coef_"
   ]
  },
  {
   "cell_type": "code",
   "execution_count": 756,
   "id": "19385f2d",
   "metadata": {},
   "outputs": [
    {
     "data": {
      "text/plain": [
       "array([0.08614175])"
      ]
     },
     "execution_count": 756,
     "metadata": {},
     "output_type": "execute_result"
    }
   ],
   "source": [
    "reg.coef_ * 365"
   ]
  },
  {
   "cell_type": "code",
   "execution_count": 758,
   "id": "8fe7043b",
   "metadata": {},
   "outputs": [
    {
     "data": {
      "text/plain": [
       "3200.0416666666665"
      ]
     },
     "execution_count": 758,
     "metadata": {},
     "output_type": "execute_result"
    }
   ],
   "source": [
    "max(x_datetime_days)"
   ]
  },
  {
   "cell_type": "code",
   "execution_count": 767,
   "id": "0e773207",
   "metadata": {},
   "outputs": [
    {
     "data": {
      "text/plain": [
       "array([0.71426419, 0.71804027, 0.72181635, 0.74447281, 0.74824888,\n",
       "       0.75580104, 0.76336303, 0.7671391 , 0.77469126, 0.80111396])"
      ]
     },
     "execution_count": 767,
     "metadata": {},
     "output_type": "execute_result"
    }
   ],
   "source": [
    "linear_relationship = reg.predict(np.array(x_datetime_days).reshape(-1, 1))\n",
    "linear_relationship[:10]"
   ]
  },
  {
   "cell_type": "code",
   "execution_count": 763,
   "id": "fac348d5",
   "metadata": {},
   "outputs": [
    {
     "data": {
      "text/plain": [
       "array([0.71426419, 0.71804027, 0.72181635, 0.74447281, 0.74824888,\n",
       "       0.75580104, 0.76336303, 0.7671391 , 0.77469126, 0.80111396])"
      ]
     },
     "execution_count": 763,
     "metadata": {},
     "output_type": "execute_result"
    }
   ],
   "source": [
    "linear_relationship[:10]"
   ]
  },
  {
   "cell_type": "code",
   "execution_count": 880,
   "id": "f3f2e7ef",
   "metadata": {},
   "outputs": [
    {
     "data": {
      "image/png": "[encoded data removed]",
      "text/plain": [
       "<Figure size 432x288 with 1 Axes>"
      ]
     },
     "metadata": {},
     "output_type": "display_data"
    }
   ],
   "source": [
    "plt.plot(x_datetime_days, linear_relationship, label = \"line 1\", color = 'red')\n",
    "plt.plot(x_datetime_days, urban_ratio_corrected)\n",
    "plt.title('urban ratio over time')\n",
    "plt.xlabel('days since April 10, 2013')\n",
    "plt.ylabel('(urban/non urban) ratio')\n",
    "plt.show()"
   ]
  },
  {
   "cell_type": "code",
   "execution_count": 882,
   "id": "38aaa447",
   "metadata": {},
   "outputs": [
    {
     "name": "stdout",
     "output_type": "stream",
     "text": [
      "Collecting package metadata (current_repodata.json): ...working... done\n",
      "Solving environment: ...working... done\n",
      "\n",
      "# All requested packages already installed.\n",
      "\n"
     ]
    }
   ],
   "source": [
    "!conda install --yes seaborn"
   ]
  },
  {
   "cell_type": "code",
   "execution_count": 886,
   "id": "e73a323c",
   "metadata": {},
   "outputs": [],
   "source": [
    "x_series = pd.Series(x_datetime_days, name = 'x_datetime_days')\n",
    "y_series = pd.Series(urban_ratio_corrected, name = 'urban_ratio_corrected')\n",
    "df = pd.concat([x_series, y_series], axis=1)"
   ]
  },
  {
   "cell_type": "code",
   "execution_count": 887,
   "id": "7784dd3b",
   "metadata": {},
   "outputs": [
    {
     "data": {
      "image/png": "[encoded data removed]",
      "text/plain": [
       "<Figure size 360x360 with 1 Axes>"
      ]
     },
     "metadata": {},
     "output_type": "display_data"
    }
   ],
   "source": [
    "import seaborn as sns\n",
    "\n",
    "sns.lmplot(x='x_datetime_days', y='urban_ratio_corrected', data = df, fit_reg=True, ci=0, n_boot=1000, line_kws={'color': 'red'})\n",
    "plt.title('scatter plot of urban ratio over time')\n",
    "plt.xlabel('days since April 10, 2013')\n",
    "plt.ylabel('(urban/non urban) ratio')\n",
    "plt.show()"
   ]
  },
  {
   "cell_type": "code",
   "execution_count": 906,
   "id": "cf14b823",
   "metadata": {},
   "outputs": [
    {
     "data": {
      "text/plain": [
       "0.9214641351928792"
      ]
     },
     "execution_count": 906,
     "metadata": {},
     "output_type": "execute_result"
    }
   ],
   "source": [
    "np.std(y_series)"
   ]
  },
  {
   "cell_type": "code",
   "execution_count": 901,
   "id": "949fdf3d",
   "metadata": {},
   "outputs": [
    {
     "data": {
      "text/plain": [
       "0.7552251840059682"
      ]
     },
     "execution_count": 901,
     "metadata": {},
     "output_type": "execute_result"
    }
   ],
   "source": [
    "linear_relationship[-1] - linear_relationship[0]"
   ]
  },
  {
   "cell_type": "markdown",
   "id": "ac7d6c9a",
   "metadata": {},
   "source": [
    "### Detrending Data"
   ]
  },
  {
   "cell_type": "code",
   "execution_count": 878,
   "id": "f68a6958",
   "metadata": {},
   "outputs": [
    {
     "data": {
      "image/png": "[encoded data removed]",
      "text/plain": [
       "<Figure size 432x288 with 1 Axes>"
      ]
     },
     "metadata": {},
     "output_type": "display_data"
    }
   ],
   "source": [
    "deseasonlized = (urban_ratio_corrected - linear_relationship) + reg.intercept_\n",
    "plt.plot(x_datetime_days, deseasonlized)\n",
    "plt.title('urban ratio over time: detrended')\n",
    "plt.xlabel('days since April 10, 2013')\n",
    "plt.ylabel('(urban/non urban) ratio')\n",
    "plt.show()"
   ]
  },
  {
   "cell_type": "code",
   "execution_count": 836,
   "id": "99a53471",
   "metadata": {},
   "outputs": [],
   "source": [
    "import numpy as np"
   ]
  },
  {
   "cell_type": "code",
   "execution_count": 838,
   "id": "810c7110",
   "metadata": {},
   "outputs": [
    {
     "data": {
      "text/plain": [
       "0.9214641351928792"
      ]
     },
     "execution_count": 838,
     "metadata": {},
     "output_type": "execute_result"
    }
   ],
   "source": [
    "x = np.std(urban_ratio_corrected)\n",
    "x"
   ]
  },
  {
   "cell_type": "code",
   "execution_count": 823,
   "id": "b45ea0fc",
   "metadata": {},
   "outputs": [
    {
     "data": {
      "image/png": "[encoded data removed]",
      "text/plain": [
       "<Figure size 432x288 with 1 Axes>"
      ]
     },
     "metadata": {},
     "output_type": "display_data"
    }
   ],
   "source": [
    "# sns.regplot(x='x_datetime_days', y='urban_ratio_corrected', data = df, ci=95, n_boot=1000)\n",
    "# plt.show()"
   ]
  },
  {
   "cell_type": "code",
   "execution_count": 843,
   "id": "fdb39ae9",
   "metadata": {},
   "outputs": [],
   "source": [
    "# from pandas import read_csv\n",
    "# from matplotlib import pyplot\n",
    "# #'x_datetime_days', y='urban_ratio_corrected'\n",
    "# degree = 18\n",
    "# coef = polyfit(x_datetime_days, urban_ratio_corrected, degree)\n",
    "# curve = list()\n",
    "# for i in range(len(x_datetime_days)):\n",
    "#     value = coef[-1]\n",
    "#     for d in range(degree):\n",
    "#         value += x_datetime_days[i]**(degree-d) * coef[d]\n",
    "#     curve.append(value)\n",
    "# # plot curve over original data\n",
    "# pyplot.plot(urban_ratio_corrected)\n",
    "# pyplot.plot(curve, color='red', linewidth=3)\n",
    "# pyplot.show()"
   ]
  },
  {
   "cell_type": "markdown",
   "id": "ae952ef7",
   "metadata": {},
   "source": [
    "### Experimenting with logs"
   ]
  },
  {
   "cell_type": "code",
   "execution_count": 667,
   "id": "b1c10a88",
   "metadata": {},
   "outputs": [
    {
     "data": {
      "text/plain": [
       "[<matplotlib.lines.Line2D at 0x1a881112fa0>]"
      ]
     },
     "execution_count": 667,
     "metadata": {},
     "output_type": "execute_result"
    },
    {
     "data": {
      "image/png": "[encoded data removed]",
      "text/plain": [
       "<Figure size 432x288 with 1 Axes>"
      ]
     },
     "metadata": {},
     "output_type": "display_data"
    }
   ],
   "source": [
    "# from math import log\n",
    "# log_ratios = [log(x) for x in urban_ratio_corrected]\n",
    "# plt.plot(x_values_corrected, log_ratios)\n"
   ]
  },
  {
   "cell_type": "markdown",
   "id": "42d834eb",
   "metadata": {},
   "source": [
    "### Dictionary of Years"
   ]
  },
  {
   "cell_type": "code",
   "execution_count": 661,
   "id": "0edffbd5",
   "metadata": {},
   "outputs": [
    {
     "data": {
      "image/png": "[encoded data removed]",
      "text/plain": [
       "<Figure size 432x288 with 1 Axes>"
      ]
     },
     "metadata": {},
     "output_type": "display_data"
    }
   ],
   "source": [
    "# year_avg_corrected = {}\n",
    "# # year_avg.keys = years\n",
    "# for i in years:\n",
    "#     year_avg_corrected[i] = []\n",
    "# year_avg_corrected = plt.plot(x_values_corrected, urban_ratio_corrected)"
   ]
  },
  {
   "cell_type": "code",
   "execution_count": 611,
   "id": "0bea5a15",
   "metadata": {},
   "outputs": [
    {
     "data": {
      "text/plain": [
       "110"
      ]
     },
     "execution_count": 611,
     "metadata": {},
     "output_type": "execute_result"
    }
   ],
   "source": [
    "year_list_corrected = []\n",
    "for i in x_values_corrected:\n",
    "    year_list_corrected.append(i.year)\n",
    "len(year_list_corrected)"
   ]
  },
  {
   "cell_type": "code",
   "execution_count": 612,
   "id": "705e208e",
   "metadata": {},
   "outputs": [],
   "source": [
    "# pd.Series(year_list).value_counts()\n",
    "# year_avg = { keys = year}\n",
    "for count, value in enumerate(urban_ratio_corrected):\n",
    "    year_avg_corrected[year_list_corrected[count]].append(value)"
   ]
  },
  {
   "cell_type": "code",
   "execution_count": 619,
   "id": "bdb1af26",
   "metadata": {
    "scrolled": false
   },
   "outputs": [],
   "source": [
    "# year_avg_corrected"
   ]
  },
  {
   "cell_type": "markdown",
   "id": "4f776f67",
   "metadata": {},
   "source": [
    "### Analyzing months, and Seasonality Trend"
   ]
  },
  {
   "cell_type": "code",
   "execution_count": 620,
   "id": "5132a451",
   "metadata": {},
   "outputs": [],
   "source": [
    "month_list = []\n",
    "for i in x_values:\n",
    "    month_list.append(i.month)\n",
    "months = np.unique(month_list)"
   ]
  },
  {
   "cell_type": "code",
   "execution_count": 621,
   "id": "d90192aa",
   "metadata": {
    "scrolled": true
   },
   "outputs": [
    {
     "data": {
      "text/plain": [
       "{1: [],\n",
       " 2: [],\n",
       " 3: [],\n",
       " 4: [],\n",
       " 5: [],\n",
       " 6: [],\n",
       " 7: [],\n",
       " 8: [],\n",
       " 9: [],\n",
       " 10: [],\n",
       " 11: [],\n",
       " 12: []}"
      ]
     },
     "execution_count": 621,
     "metadata": {},
     "output_type": "execute_result"
    }
   ],
   "source": [
    "months_avg_corrected = {}\n",
    "# year_avg.keys = years\n",
    "for i in months:\n",
    "    months_avg_corrected[i] = []\n",
    "months_avg_corrected"
   ]
  },
  {
   "cell_type": "code",
   "execution_count": 622,
   "id": "d131eb5d",
   "metadata": {},
   "outputs": [
    {
     "data": {
      "text/plain": [
       "110"
      ]
     },
     "execution_count": 622,
     "metadata": {},
     "output_type": "execute_result"
    }
   ],
   "source": [
    "months_list_corrected = []\n",
    "for i in x_values_corrected:\n",
    "    months_list_corrected.append(i.month)\n",
    "len(months_list_corrected)"
   ]
  },
  {
   "cell_type": "code",
   "execution_count": 625,
   "id": "f77a1eae",
   "metadata": {},
   "outputs": [],
   "source": [
    "for count, value in enumerate(urban_ratio_corrected):\n",
    "    months_avg_corrected[months_list_corrected[count]].append(value)"
   ]
  },
  {
   "cell_type": "code",
   "execution_count": 630,
   "id": "8d13e326",
   "metadata": {},
   "outputs": [],
   "source": [
    "months_avg_corrected_2 = {}\n",
    "for i in months_avg_corrected:\n",
    "    months_avg_corrected_2[i] = np.mean(months_avg_corrected[i])\n"
   ]
  },
  {
   "cell_type": "code",
   "execution_count": 890,
   "id": "ecf3bd38",
   "metadata": {},
   "outputs": [
    {
     "data": {
      "image/png": "[encoded data removed]",
      "text/plain": [
       "<Figure size 432x288 with 1 Axes>"
      ]
     },
     "metadata": {},
     "output_type": "display_data"
    }
   ],
   "source": [
    "month_names = ['Jan', 'Feb', 'March', 'Apr', 'May', 'Jun', 'Jul', 'Aug', 'Sep', 'Oct', 'Nov', 'Dec']\n",
    "year_avg_corrected = plt.plot(month_names,months_avg_corrected_2.values())\n",
    "plt.title('Urban Score Shift Over a Yearly Cycle')\n",
    "plt.xlabel('months')\n",
    "plt.ylabel('(urban/non urban) ratio')\n",
    "plt.show()"
   ]
  },
  {
   "cell_type": "code",
   "execution_count": 850,
   "id": "612c0f1b",
   "metadata": {
    "scrolled": true
   },
   "outputs": [
    {
     "data": {
      "text/plain": [
       "dict_values([2.366245525391043, 2.18533166365072, 1.29538425974587, 0.8216970646930098, 0.5947008592301368, 0.3888559803527063, 0.1666984361409275, 0.14788816329694934, 0.1250677733151623, 0.5231472580581815, 1.893641926907705, 2.3363768404108907])"
      ]
     },
     "execution_count": 850,
     "metadata": {},
     "output_type": "execute_result"
    }
   ],
   "source": [
    "months_avg_corrected_2.values()"
   ]
  },
  {
   "cell_type": "code",
   "execution_count": 848,
   "id": "83f1a25a",
   "metadata": {},
   "outputs": [
    {
     "data": {
      "text/plain": [
       "[0, 1, 2, 3, 4, 5, 6, 7, 8, 9, 10, 11, 12]"
      ]
     },
     "execution_count": 848,
     "metadata": {},
     "output_type": "execute_result"
    }
   ],
   "source": [
    "list(range(13))"
   ]
  },
  {
   "cell_type": "markdown",
   "id": "a17ee965",
   "metadata": {},
   "source": [
    "### Averaging corrected data by year"
   ]
  },
  {
   "cell_type": "code",
   "execution_count": 559,
   "id": "469260a1",
   "metadata": {},
   "outputs": [],
   "source": [
    "# for i in test_dict.values:\n",
    "list_year_average_corrected = []\n",
    "for i in year_avg_corrected:\n",
    "    list_year_average_corrected.append(np.mean(year_avg_corrected[i]))\n",
    "# list_year_average"
   ]
  },
  {
   "cell_type": "code",
   "execution_count": null,
   "id": "90dd4f34",
   "metadata": {},
   "outputs": [],
   "source": []
  },
  {
   "cell_type": "code",
   "execution_count": 561,
   "id": "85d8e7e3",
   "metadata": {
    "scrolled": true
   },
   "outputs": [
    {
     "data": {
      "text/plain": [
       "[0.8932386322805885,\n",
       " 0.5961964284060416,\n",
       " 0.5370671896396197,\n",
       " 1.383457346476262,\n",
       " 1.249241606661275,\n",
       " 1.3375268946199286,\n",
       " 1.0263152629146564,\n",
       " 1.1877434043813473,\n",
       " 1.450091265543045,\n",
       " 2.5116910229645093]"
      ]
     },
     "execution_count": 561,
     "metadata": {},
     "output_type": "execute_result"
    }
   ],
   "source": [
    "list_year_average_corrected"
   ]
  },
  {
   "cell_type": "markdown",
   "id": "d516597a",
   "metadata": {},
   "source": [
    "### Accounting for Winter"
   ]
  },
  {
   "cell_type": "code",
   "execution_count": 828,
   "id": "ebf3bf07",
   "metadata": {},
   "outputs": [
    {
     "data": {
      "text/plain": [
       "[8, 17, 18, 28, 29, 30, 31, 40, 41, 42]"
      ]
     },
     "execution_count": 828,
     "metadata": {},
     "output_type": "execute_result"
    }
   ],
   "source": [
    "x_winter = []\n",
    "winter_index = []\n",
    "for i in x_values_corrected:\n",
    "    month = i.month\n",
    "    if (month == 12 or (1 <=month <= 3)):\n",
    "        x_winter.append(i)\n",
    "        winter_index.append(x_values_corrected.index(i))\n",
    "x_winter\n",
    "winter_index[:10]"
   ]
  },
  {
   "cell_type": "code",
   "execution_count": 829,
   "id": "1b0d6837",
   "metadata": {},
   "outputs": [
    {
     "data": {
      "text/plain": [
       "35"
      ]
     },
     "execution_count": 829,
     "metadata": {},
     "output_type": "execute_result"
    }
   ],
   "source": [
    "len(x_winter)"
   ]
  },
  {
   "cell_type": "code",
   "execution_count": 830,
   "id": "88b3295b",
   "metadata": {},
   "outputs": [
    {
     "data": {
      "text/plain": [
       "[1.1504730248018409,\n",
       " 2.2064430041936713,\n",
       " 2.0926640926640925,\n",
       " 1.232382216323822,\n",
       " 2.3790678987545197,\n",
       " 2.4237736617138204,\n",
       " 2.0123567335243555,\n",
       " 2.2088897367417015,\n",
       " 2.3448001590773515,\n",
       " 2.0572519083969465]"
      ]
     },
     "execution_count": 830,
     "metadata": {},
     "output_type": "execute_result"
    }
   ],
   "source": [
    "winter_urban_ratio = []\n",
    "for i in winter_index:\n",
    "    winter_urban_ratio.append(urban_ratio_corrected[i])\n",
    "winter_urban_ratio[:10]"
   ]
  },
  {
   "cell_type": "code",
   "execution_count": 831,
   "id": "301f602f",
   "metadata": {},
   "outputs": [
    {
     "data": {
      "text/plain": [
       "35"
      ]
     },
     "execution_count": 831,
     "metadata": {},
     "output_type": "execute_result"
    }
   ],
   "source": [
    "len(winter_urban_ratio)"
   ]
  },
  {
   "cell_type": "code",
   "execution_count": 832,
   "id": "9d4b89da",
   "metadata": {},
   "outputs": [
    {
     "data": {
      "text/plain": [
       "[<matplotlib.lines.Line2D at 0x1a881e8c100>]"
      ]
     },
     "execution_count": 832,
     "metadata": {},
     "output_type": "execute_result"
    },
    {
     "data": {
      "image/png": "[encoded data removed]",
      "text/plain": [
       "<Figure size 432x288 with 1 Axes>"
      ]
     },
     "metadata": {},
     "output_type": "display_data"
    }
   ],
   "source": [
    "plt.plot(x_winter, winter_urban_ratio)"
   ]
  },
  {
   "cell_type": "markdown",
   "id": "303ed65b",
   "metadata": {},
   "source": [
    "### Leftover code"
   ]
  },
  {
   "cell_type": "markdown",
   "id": "6bfabf37",
   "metadata": {},
   "source": [
    "### Citations"
   ]
  },
  {
   "cell_type": "markdown",
   "id": "da14a107",
   "metadata": {},
   "source": [
    "https://urldefense.proofpoint.com/v2/url?u=https-3A__www.chinadiscovery.com_weather_winter.html-255Cn&d=DwIGAg&c=-35OiAkTchMrZOngvJPOeA&r=D1EPOQw7iT2rfi0jWjWTnZkYQh-F5WCqnQ4vW6VmEU8&m=h-EzbZneou0jxq9ByztesEvV9LEbbFBe2tZX4AIr3tISooEAr0-cJx9RF4gkylZS&s=H5BUAE701MEebRHAL1JS-8v3mL2L-Kuk_dtUowptZ2M&e= ",
    "\n",
    "https://urldefense.proofpoint.com/v2/url?u=https-3A__www.degruyter.com_document_doi_10.1515_opag-2D2020-2D0065_html-3Flang-3Den&d=DwIGAg&c=-35OiAkTchMrZOngvJPOeA&r=D1EPOQw7iT2rfi0jWjWTnZkYQh-F5WCqnQ4vW6VmEU8&m=h-EzbZneou0jxq9ByztesEvV9LEbbFBe2tZX4AIr3tISooEAr0-cJx9RF4gkylZS&s=OAes7T51BgzugGhBkYdLUT0orZkPGQONW52xda3guEQ&e= "
   ]
  }
 ],
 "metadata": {
  "kernelspec": {
   "display_name": "Python 3 (ipykernel)",
   "language": "python",
   "name": "python3"
  },
  "language_info": {
   "codemirror_mode": {
    "name": "ipython",
    "version": 3
   },
   "file_extension": ".py",
   "mimetype": "text/x-python",
   "name": "python",
   "nbconvert_exporter": "python",
   "pygments_lexer": "ipython3",
   "version": "3.8.12"
  }
 },
 "nbformat": 4,
 "nbformat_minor": 5
}
