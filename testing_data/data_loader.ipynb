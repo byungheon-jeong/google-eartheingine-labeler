{
 "cells": [
  {
   "cell_type": "code",
   "execution_count": 1,
   "id": "06a7e7ca",
   "metadata": {},
   "outputs": [],
   "source": [
    "import numpy as np"
   ]
  },
  {
   "cell_type": "code",
   "execution_count": 2,
   "id": "bd58bd8a",
   "metadata": {},
   "outputs": [],
   "source": [
    "import os"
   ]
  },
  {
   "cell_type": "code",
   "execution_count": 3,
   "id": "f06fbf56",
   "metadata": {},
   "outputs": [],
   "source": [
    "datadir = os.path.join(os.getcwd(),\"checkpoints\")"
   ]
  },
  {
   "cell_type": "code",
   "execution_count": 4,
   "id": "9394c39b",
   "metadata": {},
   "outputs": [],
   "source": [
    "labeled_data_path = os.path.join(datadir,\"data.npy\")\n",
    "labels_path = os.path.join(datadir,\"labels.npy\")"
   ]
  },
  {
   "cell_type": "code",
   "execution_count": 5,
   "id": "c8fc4b30",
   "metadata": {},
   "outputs": [],
   "source": [
    "with open(labeled_data_path,\"rb\") as file:\n",
    "    labeled_data = np.load(file)\n",
    "\n",
    "with open(labels_path,\"rb\") as file:\n",
    "    labels = np.load(file)"
   ]
  },
  {
   "cell_type": "code",
   "execution_count": 6,
   "id": "bf263864",
   "metadata": {},
   "outputs": [
    {
     "data": {
      "text/plain": [
       "(27046, 9)"
      ]
     },
     "execution_count": 6,
     "metadata": {},
     "output_type": "execute_result"
    }
   ],
   "source": [
    "labeled_data.shape"
   ]
  },
  {
   "cell_type": "code",
   "execution_count": 7,
   "id": "3b6b4769",
   "metadata": {},
   "outputs": [
    {
     "data": {
      "text/plain": [
       "(27046,)"
      ]
     },
     "execution_count": 7,
     "metadata": {},
     "output_type": "execute_result"
    }
   ],
   "source": [
    "labels.shape"
   ]
  },
  {
   "cell_type": "code",
   "execution_count": 8,
   "id": "d933db93",
   "metadata": {},
   "outputs": [
    {
     "data": {
      "text/plain": [
       "{'label_1', 'label_2'}"
      ]
     },
     "execution_count": 8,
     "metadata": {},
     "output_type": "execute_result"
    }
   ],
   "source": [
    "set(labels)"
   ]
  },
  {
   "cell_type": "code",
   "execution_count": 10,
   "id": "d8b40742",
   "metadata": {},
   "outputs": [
    {
     "data": {
      "text/plain": [
       "array([2.12076232e-01, 2.11340189e-01, 2.24395379e-01, 2.13410005e-01,\n",
       "       1.86641976e-01, 2.85306061e+02, 2.85323120e+02, 1.42570987e-01,\n",
       "       2.09640503e-01])"
      ]
     },
     "execution_count": 10,
     "metadata": {},
     "output_type": "execute_result"
    }
   ],
   "source": [
    "labeled_data[0]"
   ]
  },
  {
   "cell_type": "code",
   "execution_count": 11,
   "id": "91b0e767",
   "metadata": {},
   "outputs": [
    {
     "data": {
      "text/plain": [
       "'label_1'"
      ]
     },
     "execution_count": 11,
     "metadata": {},
     "output_type": "execute_result"
    }
   ],
   "source": [
    "labels[0]"
   ]
  },
  {
   "cell_type": "code",
   "execution_count": 33,
   "id": "d53e385f",
   "metadata": {},
   "outputs": [
    {
     "data": {
      "text/plain": [
       "array(['label1', 'label1', 'label1', ..., 'label3', 'label3', 'label3'],\n",
       "      dtype='<U32')"
      ]
     },
     "execution_count": 33,
     "metadata": {},
     "output_type": "execute_result"
    }
   ],
   "source": [
    "labels"
   ]
  },
  {
   "cell_type": "code",
   "execution_count": null,
   "id": "ef373a2c",
   "metadata": {},
   "outputs": [],
   "source": []
  },
  {
   "cell_type": "code",
   "execution_count": null,
   "id": "29085c16",
   "metadata": {},
   "outputs": [],
   "source": []
  },
  {
   "cell_type": "code",
   "execution_count": 12,
   "id": "a61efe67",
   "metadata": {},
   "outputs": [],
   "source": [
    "import rasterio"
   ]
  },
  {
   "cell_type": "code",
   "execution_count": 14,
   "id": "48ff12d1",
   "metadata": {},
   "outputs": [],
   "source": [
    "with rasterio.open(r\"D:\\github\\google-eartheingine-labeler\\example_dataset\\full_img\\Engilchek_glacier_1999-07-09.tif\") as src:\n",
    "    fullimg = src.read()"
   ]
  },
  {
   "cell_type": "code",
   "execution_count": 15,
   "id": "eb452b28",
   "metadata": {},
   "outputs": [
    {
     "data": {
      "text/plain": [
       "(9, 440, 1046)"
      ]
     },
     "execution_count": 15,
     "metadata": {},
     "output_type": "execute_result"
    }
   ],
   "source": [
    "fullimg.shape"
   ]
  },
  {
   "cell_type": "code",
   "execution_count": 16,
   "id": "38d9b6cf",
   "metadata": {},
   "outputs": [],
   "source": [
    "with rasterio.open(r\"D:\\github\\google-eartheingine-labeler\\example_dataset\\label_img\\Engilchek_glacier_1999-07-09.tif\") as src:\n",
    "    labelimg = src.read()"
   ]
  },
  {
   "cell_type": "code",
   "execution_count": 18,
   "id": "90f650d9",
   "metadata": {},
   "outputs": [
    {
     "data": {
      "text/plain": [
       "(1, 440, 1046)"
      ]
     },
     "execution_count": 18,
     "metadata": {},
     "output_type": "execute_result"
    }
   ],
   "source": [
    "labelimg.shape"
   ]
  },
  {
   "cell_type": "code",
   "execution_count": null,
   "id": "fd789694",
   "metadata": {},
   "outputs": [],
   "source": []
  }
 ],
 "metadata": {
  "kernelspec": {
   "display_name": "Python 3 (ipykernel)",
   "language": "python",
   "name": "python3"
  },
  "language_info": {
   "codemirror_mode": {
    "name": "ipython",
    "version": 3
   },
   "file_extension": ".py",
   "mimetype": "text/x-python",
   "name": "python",
   "nbconvert_exporter": "python",
   "pygments_lexer": "ipython3",
   "version": "3.8.12"
  }
 },
 "nbformat": 4,
 "nbformat_minor": 5
}
