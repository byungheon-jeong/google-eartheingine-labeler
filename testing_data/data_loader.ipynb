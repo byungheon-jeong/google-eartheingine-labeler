{
 "cells": [
  {
   "cell_type": "code",
   "execution_count": 1,
   "id": "06a7e7ca",
   "metadata": {},
   "outputs": [],
   "source": [
    "import numpy as np"
   ]
  },
  {
   "cell_type": "code",
   "execution_count": 2,
   "id": "bd58bd8a",
   "metadata": {},
   "outputs": [],
   "source": [
    "import os"
   ]
  },
  {
   "cell_type": "code",
   "execution_count": 10,
   "id": "f06fbf56",
   "metadata": {},
   "outputs": [],
   "source": [
    "datadir = os.path.join(os.getcwd(),\"checkpoints\")"
   ]
  },
  {
   "cell_type": "code",
   "execution_count": 11,
   "id": "9394c39b",
   "metadata": {},
   "outputs": [],
   "source": [
    "labeled_data_path = os.path.join(datadir,\"data.npy\")\n",
    "labels_path = os.path.join(datadir,\"labels.npy\")"
   ]
  },
  {
   "cell_type": "code",
   "execution_count": 18,
   "id": "c8fc4b30",
   "metadata": {},
   "outputs": [],
   "source": [
    "with open(labeled_data_path,\"rb\") as file:\n",
    "    labeled_data = np.load(file)\n",
    "\n",
    "with open(labels_path,\"rb\") as file:\n",
    "    labels = np.load(file)"
   ]
  },
  {
   "cell_type": "code",
   "execution_count": 17,
   "id": "bf263864",
   "metadata": {},
   "outputs": [
    {
     "data": {
      "text/plain": [
       "(148989, 9)"
      ]
     },
     "execution_count": 17,
     "metadata": {},
     "output_type": "execute_result"
    }
   ],
   "source": [
    "labeled_data.shape"
   ]
  },
  {
   "cell_type": "code",
   "execution_count": 19,
   "id": "3b6b4769",
   "metadata": {},
   "outputs": [
    {
     "data": {
      "text/plain": [
       "(148989,)"
      ]
     },
     "execution_count": 19,
     "metadata": {},
     "output_type": "execute_result"
    }
   ],
   "source": [
    "labels.shape"
   ]
  },
  {
   "cell_type": "code",
   "execution_count": null,
   "id": "d933db93",
   "metadata": {},
   "outputs": [],
   "source": []
  }
 ],
 "metadata": {
  "kernelspec": {
   "display_name": "Python 3 (ipykernel)",
   "language": "python",
   "name": "python3"
  },
  "language_info": {
   "codemirror_mode": {
    "name": "ipython",
    "version": 3
   },
   "file_extension": ".py",
   "mimetype": "text/x-python",
   "name": "python",
   "nbconvert_exporter": "python",
   "pygments_lexer": "ipython3",
   "version": "3.8.12"
  }
 },
 "nbformat": 4,
 "nbformat_minor": 5
}
