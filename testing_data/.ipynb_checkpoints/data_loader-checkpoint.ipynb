{
 "cells": [
  {
   "cell_type": "code",
   "execution_count": 19,
   "id": "06a7e7ca",
   "metadata": {},
   "outputs": [],
   "source": [
    "import numpy as np"
   ]
  },
  {
   "cell_type": "code",
   "execution_count": 20,
   "id": "bd58bd8a",
   "metadata": {},
   "outputs": [],
   "source": [
    "import os"
   ]
  },
  {
   "cell_type": "code",
   "execution_count": 21,
   "id": "f06fbf56",
   "metadata": {},
   "outputs": [],
   "source": [
    "datadir = os.path.join(os.getcwd(),\"checkpoints\")"
   ]
  },
  {
   "cell_type": "code",
   "execution_count": 22,
   "id": "9394c39b",
   "metadata": {},
   "outputs": [],
   "source": [
    "labeled_data_path = os.path.join(datadir,\"data.npy\")\n",
    "labels_path = os.path.join(datadir,\"labels.npy\")"
   ]
  },
  {
   "cell_type": "code",
   "execution_count": 28,
   "id": "c8fc4b30",
   "metadata": {},
   "outputs": [],
   "source": [
    "with open(labeled_data_path,\"rb\") as file:\n",
    "    labeled_data = np.load(file)\n",
    "\n",
    "with open(labels_path,\"rb\") as file:\n",
    "    labels = np.load(file)"
   ]
  },
  {
   "cell_type": "code",
   "execution_count": 29,
   "id": "bf263864",
   "metadata": {},
   "outputs": [
    {
     "data": {
      "text/plain": [
       "(271104, 9)"
      ]
     },
     "execution_count": 29,
     "metadata": {},
     "output_type": "execute_result"
    }
   ],
   "source": [
    "labeled_data.shape"
   ]
  },
  {
   "cell_type": "code",
   "execution_count": 30,
   "id": "3b6b4769",
   "metadata": {},
   "outputs": [
    {
     "data": {
      "text/plain": [
       "(271104,)"
      ]
     },
     "execution_count": 30,
     "metadata": {},
     "output_type": "execute_result"
    }
   ],
   "source": [
    "labels.shape"
   ]
  },
  {
   "cell_type": "code",
   "execution_count": 31,
   "id": "d933db93",
   "metadata": {},
   "outputs": [
    {
     "data": {
      "text/plain": [
       "{'label1', 'label2', 'label3'}"
      ]
     },
     "execution_count": 31,
     "metadata": {},
     "output_type": "execute_result"
    }
   ],
   "source": [
    "set(labels)"
   ]
  },
  {
   "cell_type": "code",
   "execution_count": 27,
   "id": "d8b40742",
   "metadata": {},
   "outputs": [
    {
     "data": {
      "text/plain": [
       "array(['label1', 'label1', 'label1', ..., 'label1', 'label1', 'label1'],\n",
       "      dtype='<U32')"
      ]
     },
     "execution_count": 27,
     "metadata": {},
     "output_type": "execute_result"
    }
   ],
   "source": [
    "labels"
   ]
  },
  {
   "cell_type": "code",
   "execution_count": null,
   "id": "d53e385f",
   "metadata": {},
   "outputs": [],
   "source": []
  }
 ],
 "metadata": {
  "kernelspec": {
   "display_name": "Python 3 (ipykernel)",
   "language": "python",
   "name": "python3"
  },
  "language_info": {
   "codemirror_mode": {
    "name": "ipython",
    "version": 3
   },
   "file_extension": ".py",
   "mimetype": "text/x-python",
   "name": "python",
   "nbconvert_exporter": "python",
   "pygments_lexer": "ipython3",
   "version": "3.8.12"
  }
 },
 "nbformat": 4,
 "nbformat_minor": 5
}
